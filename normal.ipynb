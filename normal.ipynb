{
 "cells": [
  {
   "cell_type": "code",
   "execution_count": 20,
   "metadata": {},
   "outputs": [],
   "source": [
    "import numpy as np"
   ]
  },
  {
   "cell_type": "code",
   "execution_count": 21,
   "metadata": {},
   "outputs": [
    {
     "name": "stdout",
     "output_type": "stream",
     "text": [
      "1.6\n",
      "0.054799291699557995\n"
     ]
    }
   ],
   "source": [
    "from scipy.stats import norm\n",
    "mean=160\n",
    "std_dev=5\n",
    "total_students=500\n",
    "score=168\n",
    "z_score=(score-mean)/std_dev\n",
    "print(z_score)\n",
    "prob=1-norm.cdf(z_score)\n",
    "print(prob)"
   ]
  },
  {
   "cell_type": "code",
   "execution_count": 22,
   "metadata": {},
   "outputs": [
    {
     "name": "stdout",
     "output_type": "stream",
     "text": [
      "percentage of students will have height above 168 cm is 5.48%\n"
     ]
    }
   ],
   "source": [
    "percent=prob*100\n",
    "percent=np.round(percent,3)\n",
    "print(f\"percentage of students will have height above 168 cm is {percent}%\")"
   ]
  },
  {
   "cell_type": "code",
   "execution_count": 23,
   "metadata": {},
   "outputs": [
    {
     "name": "stdout",
     "output_type": "stream",
     "text": [
      "-2.0\n",
      "3.0\n",
      "0.9758999700201907\n"
     ]
    }
   ],
   "source": [
    "from scipy.stats import norm\n",
    "mean=160\n",
    "std_dev=5\n",
    "total_students=500\n",
    "score1=150\n",
    "z1_score=(score1-mean)/std_dev\n",
    "print(z1_score)\n",
    "prob1=norm.cdf(z1_score)\n",
    "score2=175\n",
    "z2_score=(score2-mean)/std_dev\n",
    "print(z2_score)\n",
    "prob2=norm.cdf(z2_score)\n",
    "ans=prob2-prob1\n",
    "print(ans)"
   ]
  }
 ],
 "metadata": {
  "kernelspec": {
   "display_name": "env",
   "language": "python",
   "name": "python3"
  },
  "language_info": {
   "codemirror_mode": {
    "name": "ipython",
    "version": 3
   },
   "file_extension": ".py",
   "mimetype": "text/x-python",
   "name": "python",
   "nbconvert_exporter": "python",
   "pygments_lexer": "ipython3",
   "version": "3.13.0"
  }
 },
 "nbformat": 4,
 "nbformat_minor": 2
}
