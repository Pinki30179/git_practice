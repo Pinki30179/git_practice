{
 "cells": [
  {
   "cell_type": "code",
   "execution_count": 38,
   "metadata": {},
   "outputs": [
    {
     "name": "stdout",
     "output_type": "stream",
     "text": [
      "0.0017695331577585263\n"
     ]
    }
   ],
   "source": [
    "from scipy.stats import poisson\n",
    "k=3\n",
    "lam=12\n",
    "poisson=poisson.pmf(k,lam)\n",
    "print(poisson)"
   ]
  },
  {
   "cell_type": "code",
   "execution_count": 40,
   "metadata": {},
   "outputs": [
    {
     "name": "stdout",
     "output_type": "stream",
     "text": [
      "0.9999201252394068\n"
     ]
    }
   ],
   "source": [
    "from scipy.stats import poisson\n",
    "poisson1=poisson.pmf(0,12)\n",
    "poisson2=poisson.pmf(1,12)\n",
    "ans=1-(poisson1+poisson2)\n",
    "print(ans)"
   ]
  },
  {
   "cell_type": "code",
   "execution_count": 42,
   "metadata": {},
   "outputs": [
    {
     "name": "stdout",
     "output_type": "stream",
     "text": [
      "0.0005222580500328978\n"
     ]
    }
   ],
   "source": [
    "from scipy.stats import poisson\n",
    "poisson1=poisson.pmf(0,12)\n",
    "poisson2=poisson.pmf(1,12)\n",
    "poisson3=poisson.pmf(2,12)\n",
    "ans=poisson1+poisson2+poisson3\n",
    "print(ans)"
   ]
  }
 ],
 "metadata": {
  "kernelspec": {
   "display_name": "env",
   "language": "python",
   "name": "python3"
  },
  "language_info": {
   "codemirror_mode": {
    "name": "ipython",
    "version": 3
   },
   "file_extension": ".py",
   "mimetype": "text/x-python",
   "name": "python",
   "nbconvert_exporter": "python",
   "pygments_lexer": "ipython3",
   "version": "3.13.0"
  }
 },
 "nbformat": 4,
 "nbformat_minor": 2
}
