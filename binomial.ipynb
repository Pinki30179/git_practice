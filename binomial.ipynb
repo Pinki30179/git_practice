{
 "cells": [
  {
   "cell_type": "code",
   "execution_count": 101,
   "metadata": {},
   "outputs": [],
   "source": [
    "def fact(n):\n",
    "    fact=1\n",
    "    for i in range(1,n+1):\n",
    "        fact=fact*i\n",
    "    return fact"
   ]
  },
  {
   "cell_type": "code",
   "execution_count": 102,
   "metadata": {},
   "outputs": [],
   "source": [
    "def combination(n,x):\n",
    "    com=fact(n)/(fact(x)*fact(n-x))\n",
    "    return com"
   ]
  },
  {
   "cell_type": "code",
   "execution_count": 103,
   "metadata": {},
   "outputs": [],
   "source": [
    "def binomial(n,p,x):\n",
    "    success=pow(p,x)\n",
    "    failure=pow((1-p),(n-x))\n",
    "    com=combination(n,x)\n",
    "    binomial=com*success*failure\n",
    "    return binomial"
   ]
  },
  {
   "cell_type": "code",
   "execution_count": 104,
   "metadata": {},
   "outputs": [],
   "source": [
    "def main():\n",
    "    n=6\n",
    "    p=0.3\n",
    "    choice=int(input(\"Enter the choice to perform between 1-4 :\"))\n",
    "    if choice==1:\n",
    "        x=3\n",
    "        print(\"probability of getting exactly three correct answers\\n\")\n",
    "        binomial_dist=binomial(n,p,x)\n",
    "        print(binomial_dist)\n",
    "    elif choice==2:\n",
    "        print(\"probability of getting at least two correct answers\\n\")\n",
    "        binomial_dist0=binomial(n,p,0)\n",
    "        binomial_dist1=binomial(n,p,1)\n",
    "        final_binomial=1-(binomial_dist0+binomial_dist1)\n",
    "        print(final_binomial)\n",
    "    elif choice==3:\n",
    "        print(\"probability of getting at most two correct answers\\n\")\n",
    "        binomial_dist0=binomial(n,p,0)\n",
    "        binomial_dist1=binomial(n,p,1)\n",
    "        binomial_dist2=binomial(n,p,2)\n",
    "        final_binomial=binomial_dist0+binomial_dist1+binomial_dist2\n",
    "        print(final_binomial)\n",
    "    elif choice==4:\n",
    "        print(\"probability of getting less than five correct answers\\n\")\n",
    "        binomial_dist5=binomial(n,p,5)\n",
    "        binomial_dist6=binomial(n,p,6)\n",
    "        final_binomial=1-(binomial_dist5+binomial_dist6)\n",
    "        print(final_binomial)\n",
    "    else:\n",
    "        print(\"Exit the system.\")\n",
    "    "
   ]
  },
  {
   "cell_type": "code",
   "execution_count": 105,
   "metadata": {},
   "outputs": [
    {
     "name": "stdout",
     "output_type": "stream",
     "text": [
      "probability of getting less than five correct answers\n",
      "\n",
      "0.989065\n"
     ]
    }
   ],
   "source": [
    "if __name__=='__main__':\n",
    "    main()"
   ]
  }
 ],
 "metadata": {
  "kernelspec": {
   "display_name": "env",
   "language": "python",
   "name": "python3"
  },
  "language_info": {
   "codemirror_mode": {
    "name": "ipython",
    "version": 3
   },
   "file_extension": ".py",
   "mimetype": "text/x-python",
   "name": "python",
   "nbconvert_exporter": "python",
   "pygments_lexer": "ipython3",
   "version": "3.13.0"
  }
 },
 "nbformat": 4,
 "nbformat_minor": 2
}
